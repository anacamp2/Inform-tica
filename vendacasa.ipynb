{
  "nbformat": 4,
  "nbformat_minor": 0,
  "metadata": {
    "colab": {
      "provenance": []
    },
    "kernelspec": {
      "name": "python3",
      "display_name": "Python 3"
    },
    "language_info": {
      "name": "python"
    }
  },
  "cells": [
    {
      "cell_type": "code",
      "source": [
        "import kagglehub\n",
        "\n",
        "# Download latest version\n",
        "path = kagglehub.dataset_download(\"greenwing1985/housepricing\")\n",
        "\n",
        "print(\"Path to dataset files:\", path)"
      ],
      "metadata": {
        "id": "18DHMa-KW105",
        "outputId": "fd64e120-0340-4bc5-9f60-23d936bb6e32",
        "colab": {
          "base_uri": "https://localhost:8080/"
        }
      },
      "execution_count": null,
      "outputs": [
        {
          "output_type": "stream",
          "name": "stdout",
          "text": [
            "Path to dataset files: /kaggle/input/housepricing\n"
          ]
        }
      ]
    },
    {
      "cell_type": "code",
      "source": [
        "# prompt: ler em dataframe os dados\n",
        "\n",
        "import pandas as pd\n",
        "import os\n",
        "\n",
        "# Assuming the path points to a directory containing CSV files\n",
        "# Let's find the first CSV file in the downloaded directory and read it\n",
        "csv_files = [f for f in os.listdir(path) if f.endswith('.csv')]\n",
        "\n",
        "if csv_files:\n",
        "    # Assuming the dataset has at least one CSV file\n",
        "    csv_file_path = os.path.join(path, csv_files[0])\n",
        "    df = pd.read_csv(csv_file_path)\n",
        "    print(\"\\nFirst few rows of the dataframe:\")\n",
        "    print(df.head())\n",
        "else:\n",
        "    print(\"No CSV files found in the downloaded dataset directory.\")\n",
        "\n",
        "# You can now work with the 'df' pandas DataFrame"
      ],
      "metadata": {
        "id": "dVBlD63RW5E6",
        "colab": {
          "base_uri": "https://localhost:8080/"
        },
        "outputId": "4478d797-fc56-42ec-a9c3-b9f88f9b659d"
      },
      "execution_count": 3,
      "outputs": [
        {
          "output_type": "stream",
          "name": "stdout",
          "text": [
            "\n",
            "First few rows of the dataframe:\n",
            "   Area  Garage  FirePlace  Baths  White Marble  Black Marble  Indian Marble  \\\n",
            "0   164       2          0      2             0             1              0   \n",
            "1    84       2          0      4             0             0              1   \n",
            "2   190       2          4      4             1             0              0   \n",
            "3    75       2          4      4             0             0              1   \n",
            "4   148       1          4      2             1             0              0   \n",
            "\n",
            "   Floors  City  Solar  Electric  Fiber  Glass Doors  Swiming Pool  Garden  \\\n",
            "0       0     3      1         1      1            1             0       0   \n",
            "1       1     2      0         0      0            1             1       1   \n",
            "2       0     2      0         0      1            0             0       0   \n",
            "3       1     1      1         1      1            1             1       1   \n",
            "4       1     2      1         0      0            1             1       1   \n",
            "\n",
            "   Prices  \n",
            "0   43800  \n",
            "1   37550  \n",
            "2   49500  \n",
            "3   50075  \n",
            "4   52400  \n"
          ]
        }
      ]
    },
    {
      "cell_type": "code",
      "source": [
        "# prompt: df.head()\n",
        "\n",
        "print(df.head())"
      ],
      "metadata": {
        "colab": {
          "base_uri": "https://localhost:8080/"
        },
        "id": "Dm2umUpUk0tj",
        "outputId": "8cc1c433-f237-419c-b50d-c5342bb67f33"
      },
      "execution_count": 4,
      "outputs": [
        {
          "output_type": "stream",
          "name": "stdout",
          "text": [
            "   Area  Garage  FirePlace  Baths  White Marble  Black Marble  Indian Marble  \\\n",
            "0   164       2          0      2             0             1              0   \n",
            "1    84       2          0      4             0             0              1   \n",
            "2   190       2          4      4             1             0              0   \n",
            "3    75       2          4      4             0             0              1   \n",
            "4   148       1          4      2             1             0              0   \n",
            "\n",
            "   Floors  City  Solar  Electric  Fiber  Glass Doors  Swiming Pool  Garden  \\\n",
            "0       0     3      1         1      1            1             0       0   \n",
            "1       1     2      0         0      0            1             1       1   \n",
            "2       0     2      0         0      1            0             0       0   \n",
            "3       1     1      1         1      1            1             1       1   \n",
            "4       1     2      1         0      0            1             1       1   \n",
            "\n",
            "   Prices  \n",
            "0   43800  \n",
            "1   37550  \n",
            "2   49500  \n",
            "3   50075  \n",
            "4   52400  \n"
          ]
        }
      ]
    },
    {
      "cell_type": "code",
      "source": [
        "# prompt: corrija e elabore um modelo que realize previsões sobre o preço dos imóveis, utilizando a técnica de regressão linear\n",
        "\n",
        "import kagglehub\n",
        "import pandas as pd\n",
        "import os\n",
        "from sklearn.model_selection import train_test_split\n",
        "from sklearn.linear_model import LinearRegression\n",
        "from sklearn.metrics import mean_squared_error, r2_score\n",
        "\n",
        "# Download latest version\n",
        "path = kagglehub.dataset_download(\"greenwing1985/housepricing\")\n",
        "\n",
        "print(\"Path to dataset files:\", path)\n",
        "\n",
        "# Assuming the path points to a directory containing CSV files\n",
        "# Let's find the first CSV file in the downloaded directory and read it\n",
        "csv_files = [f for f in os.listdir(path) if f.endswith('.csv')]\n",
        "\n",
        "if csv_files:\n",
        "    # Assuming the dataset has at least one CSV file\n",
        "    csv_file_path = os.path.join(path, csv_files[0])\n",
        "    df = pd.read_csv(csv_file_path)\n",
        "    print(\"\\nFirst few rows of the dataframe:\")\n",
        "    print(df.head())\n",
        "\n",
        "    # --- Model Training and Prediction ---\n",
        "\n",
        "    # Assuming 'price' is the target variable and other numerical columns are features\n",
        "    # Select numerical columns, excluding the target variable\n",
        "    numerical_cols = df.select_dtypes(include=['number']).columns\n",
        "    # Assuming 'price' is the column name for the house price\n",
        "    if 'prices' in numerical_cols:\n",
        "        features = numerical_cols.drop('price')\n",
        "        X = df[features]\n",
        "        y = df['price']\n",
        "\n",
        "        # Handle potential missing values (simple imputation for demonstration)\n",
        "        X = X.fillna(X.mean())\n",
        "\n",
        "        # Split the data into training and testing sets\n",
        "        X_train, X_test, y_train, y_test = train_test_split(X, y, test_size=0.2, random_state=42)\n",
        "\n",
        "        # Create and train the Linear Regression model\n",
        "        model = LinearRegression()\n",
        "        model.fit(X_train, y_train)\n",
        "\n",
        "        # Make predictions on the test set\n",
        "        y_pred = model.predict(X_test)\n",
        "\n",
        "        # Evaluate the model\n",
        "        mse = mean_squared_error(y_test, y_pred)\n",
        "        rmse = mean_squared_error(y_test, y_pred, squared=False)  # RMSE\n",
        "        r2 = r2_score(y_test, y_pred)\n",
        "\n",
        "        print(f\"\\nMean Squared Error (MSE): {mse}\")\n",
        "        print(f\"Root Mean Squared Error (RMSE): {rmse}\")\n",
        "        print(f\"R-squared (R2): {r2}\")\n",
        "\n",
        "        # Example of making a prediction on new data (replace with your new data)\n",
        "        # For demonstration, let's predict for the first row of the test set\n",
        "        example_prediction = model.predict(X_test.iloc[[0]])\n",
        "        print(f\"\\nExample prediction for the first test instance: {example_prediction[0]}\")\n",
        "\n",
        "    else:\n",
        "        print(\"\\n'price' column not found in the numerical columns. Please check the dataset.\")\n",
        "\n",
        "else:\n",
        "    print(\"No CSV files found in the downloaded dataset directory.\")\n"
      ],
      "metadata": {
        "colab": {
          "base_uri": "https://localhost:8080/"
        },
        "id": "EwCSVjb9lsGN",
        "outputId": "1a91f97e-55e6-4077-beb3-a750d1214ac7"
      },
      "execution_count": 7,
      "outputs": [
        {
          "output_type": "stream",
          "name": "stdout",
          "text": [
            "Path to dataset files: /kaggle/input/housepricing\n",
            "\n",
            "First few rows of the dataframe:\n",
            "   Area  Garage  FirePlace  Baths  White Marble  Black Marble  Indian Marble  \\\n",
            "0   164       2          0      2             0             1              0   \n",
            "1    84       2          0      4             0             0              1   \n",
            "2   190       2          4      4             1             0              0   \n",
            "3    75       2          4      4             0             0              1   \n",
            "4   148       1          4      2             1             0              0   \n",
            "\n",
            "   Floors  City  Solar  Electric  Fiber  Glass Doors  Swiming Pool  Garden  \\\n",
            "0       0     3      1         1      1            1             0       0   \n",
            "1       1     2      0         0      0            1             1       1   \n",
            "2       0     2      0         0      1            0             0       0   \n",
            "3       1     1      1         1      1            1             1       1   \n",
            "4       1     2      1         0      0            1             1       1   \n",
            "\n",
            "   Prices  \n",
            "0   43800  \n",
            "1   37550  \n",
            "2   49500  \n",
            "3   50075  \n",
            "4   52400  \n",
            "\n",
            "'price' column not found in the numerical columns. Please check the dataset.\n"
          ]
        }
      ]
    }
  ]
}